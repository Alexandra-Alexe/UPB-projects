{
 "cells": [
  {
   "cell_type": "markdown",
   "metadata": {},
   "source": [
    "# Tema 2 - IA\n",
    "##### Alexe Alexandra Florentina  - 333CC"
   ]
  },
  {
   "cell_type": "markdown",
   "metadata": {},
   "source": [
    "# Clasificare diabet\n",
    "## 3.1. Explorarea datelor\n",
    "### 3.1.1. Analiza tipului de atribute și a plajei de valori a acestora\n"
   ]
  },
  {
   "cell_type": "code",
   "execution_count": null,
   "metadata": {},
   "outputs": [],
   "source": [
    "import pandas as pd\n",
    "\n",
    "# Citirea fișierului CSV\n",
    "data = pd.read_csv(\"tema2_Diabet/diabet_full.csv\")\n",
    "\n",
    "num_attributes = ['psychological-rating', 'BodyMassIndex', 'Age', 'CognitionScore', 'Body_Stats', 'Metabolical_Rate']\n",
    "\n",
    "\n",
    "# Afișarea statisticilor generale despre coloanele numerice\n",
    "print(data['psychological-rating'].describe())\n",
    "print(data['BodyMassIndex'].describe())\n",
    "print(data['Age'].describe())\n",
    "print(data['CognitionScore'].describe())\n",
    "print(data['Body_Stats'].describe())\n",
    "print(data['Metabolical_Rate'].describe())\n",
    "\n"
   ]
  },
  {
   "cell_type": "code",
   "execution_count": null,
   "metadata": {},
   "outputs": [],
   "source": [
    "import matplotlib.pyplot as plt\n",
    "\n",
    "# Trasarea boxplot-urilor pentru fiecare atribut numeric\n",
    "for col in num_attributes:\n",
    "    data[[col]].boxplot(figsize=(8, 6))\n",
    "    plt.title(f'Boxplot pentru atributul {col}')\n",
    "    plt.ylabel('Valoare')\n",
    "    plt.xlabel('Atribut')\n",
    "    plt.show()"
   ]
  },
  {
   "cell_type": "code",
   "execution_count": null,
   "metadata": {},
   "outputs": [],
   "source": [
    "import pandas as pd\n",
    "from tabulate import tabulate\n",
    "\n",
    "# Tabel cu date pt fiecare atribut discret sau ordinal\n",
    "\n",
    "# Coloanele de interes\n",
    "disc_ord_attributes = ['HealthcareInterest', 'PreCVA', 'RoutineChecks', 'CompletedEduLvl', 'alcoholAbuse', 'cholesterol_ver',\n",
    "                'vegetables', 'HighBP', 'Unprocessed_fructose', 'Jogging', 'IncreasedChol', 'gender', 'HealthScore',\n",
    "                'myocardial_infarction', 'SalaryBraket', 'Cardio', 'ImprovedAveragePulmonaryCapacity', 'Smoker', 'Diabetes']\n",
    "\n",
    "\n",
    "# Inițializez o listă pentru a stoca rezultatele\n",
    "rezultate = []\n",
    "\n",
    "for coloana in disc_ord_attributes:\n",
    "    num_fara_lipsa = data[coloana].notna().sum()  # Numărul de exemple fără valori lipsă\n",
    "    num_valori_unice = len(pd.unique(data[coloana]))  # Numărul de valori unice\n",
    "\n",
    "    # Adăug rezultatele în listă sub forma de tuplu\n",
    "    rezultate.append((coloana, num_fara_lipsa, num_valori_unice))\n",
    "\n",
    "# Afișez rezultatele sub forma unui tabel\n",
    "print(tabulate(rezultate, headers=[\"Coloana\", \"Numărul de exemple fără valori lipsă\", \"Numărul de valori unice\"], tablefmt=\"pretty\"))"
   ]
  },
  {
   "cell_type": "code",
   "execution_count": null,
   "metadata": {},
   "outputs": [],
   "source": [
    "\n",
    "# Trasarea histogramelor pentru fiecare atribut discret sau ordinal\n",
    "\n",
    "for coloana in disc_ord_attributes :\n",
    "    # Obțin distribuția valorilor pentru atributul curent\n",
    "    distributie_valori = data[coloana].value_counts()\n",
    "\n",
    "    # Creez histograma\n",
    "    plt.figure(figsize=(8, 6))  \n",
    "    ax = distributie_valori.plot(kind='bar', color='skyblue')  # Folosim un grafic de tip bar pentru histogramă\n",
    "    plt.title(f'Distribuția valorilor pentru {coloana}')  \n",
    "    plt.xlabel('Valoare')  \n",
    "    plt.ylabel('Frecvență')  \n",
    "    # Rotesc etichetele de pe axa x pentru o citire mai ușoară\n",
    "    plt.xticks(rotation=45)  \n",
    "    \n",
    "    # Adaug numărul de valori de fiecare tip în partea de sus a fiecărei bare\n",
    "    for i, valoare in enumerate(distributie_valori):\n",
    "        ax.text(i, valoare, str(valoare), ha='center', va='bottom')\n",
    "\n",
    "    plt.tight_layout()  \n",
    "    plt.show()  "
   ]
  },
  {
   "cell_type": "markdown",
   "metadata": {},
   "source": [
    "### 3.1.2. Analiza echilibrului de clase"
   ]
  },
  {
   "cell_type": "code",
   "execution_count": null,
   "metadata": {},
   "outputs": [],
   "source": [
    "import pandas as pd\n",
    "import matplotlib.pyplot as plt\n",
    "import seaborn as sns\n",
    "\n",
    "# Citirea fișierului CSV\n",
    "data_test = pd.read_csv(\"tema2_Diabet/diabet_test.csv\")\n",
    "data_train = pd.read_csv(\"tema2_Diabet/diabet_train.csv\")\n",
    "\n",
    "disc_ord_attributes  = ['HealthcareInterest', 'PreCVA', 'RoutineChecks', 'CompletedEduLvl', 'alcoholAbuse', 'cholesterol_ver',\n",
    "                'vegetables', 'HighBP', 'Unprocessed_fructose', 'Jogging', 'IncreasedChol', 'gender', 'HealthScore',\n",
    "                'myocardial_infarction', 'SalaryBraket', 'Cardio', 'ImprovedAveragePulmonaryCapacity', 'Smoker', 'Diabetes']\n",
    "\n",
    "# Parcurge fiecare atribut și realizează graficul pentru fiecare\n",
    "for atribut in disc_ord_attributes:\n",
    "    # Creează un DataFrame combinat pentru valorile atributului din seturile de date de antrenare și de testare\n",
    "    all_values = pd.concat([data_train[[atribut]], data_test[[atribut]]], ignore_index=True)\n",
    "    \n",
    "    # Afișează distribuția valorilor pentru atributul curent\n",
    "    plt.figure(figsize=(10, 6))\n",
    "    sns.countplot(data=all_values, x=atribut, hue=all_values.index // len(data_train))\n",
    "    plt.title(f'Distribuția valorilor pentru {atribut} în seturile de date de antrenare și de testare')\n",
    "    plt.xlabel('Valoare atribut')\n",
    "    plt.ylabel('Număr de exemple')\n",
    "    \n",
    "    # Adăugarea numerelor exacte deasupra barelor\n",
    "    for p in plt.gca().patches:\n",
    "        plt.gca().annotate(f'{p.get_height()}', (p.get_x() + p.get_width() / 2., p.get_height()), \n",
    "                           ha='center', va='center', fontsize=8, color='black', xytext=(0, 5), \n",
    "                           textcoords='offset points')\n",
    "    \n",
    "    plt.legend(title='Set de date', labels=['Antrenare', 'Testare'])\n",
    "    plt.show()\n"
   ]
  },
  {
   "cell_type": "markdown",
   "metadata": {},
   "source": [
    "### 3.1.3. Analiza corelatiei intre atribute\n",
    "- atributele numerice"
   ]
  },
  {
   "cell_type": "code",
   "execution_count": null,
   "metadata": {},
   "outputs": [],
   "source": [
    "correlation_matrix = data[num_attributes].corr(method='pearson')\n",
    "# Vizualizarea matricei de corelație\n",
    "plt.figure(figsize=(10, 8))\n",
    "plt.matshow(correlation_matrix, fignum=1, cmap='coolwarm')\n",
    "plt.colorbar()\n",
    "plt.xticks(range(len(num_attributes)), num_attributes, rotation=45, ha='left')\n",
    "plt.yticks(range(len(num_attributes)), num_attributes)\n",
    "plt.title('Matricea de corelație între atributele numerice continue', pad=20)\n",
    "plt.show()"
   ]
  },
  {
   "cell_type": "markdown",
   "metadata": {},
   "source": [
    "- atribute categorice "
   ]
  },
  {
   "cell_type": "code",
   "execution_count": null,
   "metadata": {},
   "outputs": [],
   "source": [
    "import pandas as pd\n",
    "from scipy.stats import chi2_contingency\n",
    "\n",
    "# Datele categorice\n",
    "categorical_data = data[disc_ord_attributes]\n",
    "\n",
    "# Crearea unui DataFrame gol pentru stocarea rezultatelor testului Chi-Pătrat\n",
    "chi2_results = pd.DataFrame(index=disc_ord_attributes, columns=disc_ord_attributes)\n",
    "\n",
    "# Calcularea testului Chi-Pătrat pentru fiecare pereche de atribute categorice\n",
    "for col1 in disc_ord_attributes:\n",
    "    for col2 in disc_ord_attributes:\n",
    "        if col1 != col2:\n",
    "            contingency_table = pd.crosstab(categorical_data[col1], categorical_data[col2])\n",
    "            chi2, _, _, _ = chi2_contingency(contingency_table)\n",
    "            chi2_results.at[col1, col2] = chi2\n",
    "\n",
    "# Afișarea rezultatelor\n",
    "print(\"Matricea de corelație Chi-Pătrat între atributele categorice:\")\n",
    "print(chi2_results)\n",
    "\n"
   ]
  },
  {
   "cell_type": "markdown",
   "metadata": {},
   "source": [
    "# II. Clasificare risc de creditare\n",
    "## 3.1. Explorarea datelor\n",
    "### 3.1.1. Analiza tipului de atribute și a plajei de valori a acestora"
   ]
  },
  {
   "cell_type": "code",
   "execution_count": null,
   "metadata": {},
   "outputs": [],
   "source": [
    "# Citirea fișierului CSV\n",
    "data2 = pd.read_csv(\"tema2_Credit_Risk/credit_risk_full.csv\")\n",
    "\n",
    "num_attributes2 = ['applicant_age', 'applicant_income', 'job_tenure_years', 'loan_amount', 'loan_rate', 'loan_income_ratio', 'credit_history_length_years', 'credit_history_length_months']\n",
    "\n",
    "\n",
    "# Afișarea statisticilor generale despre coloanele numerice\n",
    "print(data2['applicant_age'].describe())\n",
    "print(data2['applicant_income'].describe())\n",
    "print(data2['job_tenure_years'].describe())\n",
    "print(data2['loan_amount'].describe())\n",
    "print(data2['loan_rate'].describe())\n",
    "print(data2['loan_income_ratio'].describe())\n",
    "print(data2['credit_history_length_years'].describe())\n",
    "print(data2['credit_history_length_months'].describe())"
   ]
  },
  {
   "cell_type": "code",
   "execution_count": null,
   "metadata": {},
   "outputs": [],
   "source": [
    "# Trasarea boxplot-urilor pentru fiecare atribut numeric\n",
    "for col in num_attributes2:\n",
    "    data2[[col]].boxplot(figsize=(8, 6))\n",
    "    plt.title(f'Boxplot pentru atributul {col}')\n",
    "    plt.ylabel('Valoare')\n",
    "    plt.xlabel('Atribut')\n",
    "    plt.show()"
   ]
  },
  {
   "cell_type": "code",
   "execution_count": null,
   "metadata": {},
   "outputs": [],
   "source": [
    "# Tabel cu date pt fiecare atribut discret sau ordinal\n",
    "\n",
    "# Coloanele de interes\n",
    "disc_ord_attributes2 = ['residential_status', 'loan_purpose', 'loan_rating', 'credit_history_default_status', 'stability_rating', 'loan_approval_status']\n",
    "\n",
    "\n",
    "rezultate = []\n",
    "\n",
    "for coloana in disc_ord_attributes2:\n",
    "    num_fara_lipsa = data2[coloana].notna().sum()  # Numărul de exemple fără valori lipsă\n",
    "    num_valori_unice = len(pd.unique(data2[coloana]))  # Numărul de valori unice\n",
    "\n",
    "    # Adăug rezultatele în listă sub forma de tuplu\n",
    "    rezultate.append((coloana, num_fara_lipsa, num_valori_unice))\n",
    "\n",
    "# Afișez rezultatele sub forma unui tabel\n",
    "print(tabulate(rezultate, headers=[\"Coloana\", \"Numărul de exemple fără valori lipsă\", \"Numărul de valori unice\"], tablefmt=\"pretty\"))"
   ]
  },
  {
   "cell_type": "code",
   "execution_count": null,
   "metadata": {},
   "outputs": [],
   "source": [
    "# Trasarea histogramelor pentru fiecare atribut discret sau ordinal\n",
    "for coloana in disc_ord_attributes2 :\n",
    "    # Obțin distribuția valorilor pentru atributul curent\n",
    "    distributie_valori = data2[coloana].value_counts()\n",
    "\n",
    "    # Creez histograma\n",
    "    plt.figure(figsize=(8, 6))  \n",
    "    ax = distributie_valori.plot(kind='bar', color='skyblue')  # Folosim un grafic de tip bar pentru histogramă\n",
    "    plt.title(f'Distribuția valorilor pentru {coloana}')  \n",
    "    plt.xlabel('Valoare')  \n",
    "    plt.ylabel('Frecvență')  \n",
    "    # Rotesc etichetele de pe axa x pentru o citire mai ușoară\n",
    "    plt.xticks(rotation=45)  \n",
    "    \n",
    "    # Adaug numărul de valori de fiecare tip în partea de sus a fiecărei bare\n",
    "    for i, valoare in enumerate(distributie_valori):\n",
    "        ax.text(i, valoare, str(valoare), ha='center', va='bottom')\n",
    "\n",
    "    plt.tight_layout()  \n",
    "    plt.show()  "
   ]
  },
  {
   "cell_type": "markdown",
   "metadata": {},
   "source": [
    "### 3.1.2. Analiza echilibrului de clase"
   ]
  },
  {
   "cell_type": "code",
   "execution_count": null,
   "metadata": {},
   "outputs": [],
   "source": [
    "import pandas as pd\n",
    "import matplotlib.pyplot as plt\n",
    "import seaborn as sns\n",
    "\n",
    "# Citirea fișierului CSV\n",
    "data_test2 = pd.read_csv(\"tema2_Credit_Risk/credit_risk_test.csv\")\n",
    "data_train2 = pd.read_csv(\"tema2_Credit_Risk/credit_risk_train.csv\")\n",
    "\n",
    "# Parcurge fiecare atribut și realizează graficul pentru fiecare\n",
    "for atribut in disc_ord_attributes2:\n",
    "    # Creează un DataFrame combinat pentru valorile atributului din seturile de date de antrenare și de testare\n",
    "    all_values = pd.concat([data_train2[[atribut]], data_test2[[atribut]]], ignore_index=True)\n",
    "    \n",
    "    # Afișează distribuția valorilor pentru atributul curent\n",
    "    plt.figure(figsize=(10, 6))\n",
    "    sns.countplot(data=all_values, x=atribut, hue=all_values.index // len(data_train2))\n",
    "    plt.title(f'Distribuția valorilor pentru {atribut} în seturile de date de antrenare și de testare')\n",
    "    plt.xlabel('Valoare atribut')\n",
    "    plt.ylabel('Număr de exemple')\n",
    "    \n",
    "    # Adăugarea numerelor exacte deasupra barelor\n",
    "    for p in plt.gca().patches:\n",
    "        plt.gca().annotate(f'{p.get_height()}', (p.get_x() + p.get_width() / 2., p.get_height()), \n",
    "                           ha='center', va='center', fontsize=8, color='black', xytext=(0, 5), \n",
    "                           textcoords='offset points')\n",
    "    \n",
    "    plt.legend(title='Set de date', labels=['Antrenare', 'Testare'])\n",
    "    plt.show()"
   ]
  },
  {
   "cell_type": "markdown",
   "metadata": {},
   "source": [
    "### 3.1.3. Analiza corelatiei intre atribute\n",
    "- atributele numerice"
   ]
  },
  {
   "cell_type": "code",
   "execution_count": null,
   "metadata": {},
   "outputs": [],
   "source": [
    "correlation_matrix2 = data[num_attributes2].corr(method='pearson')\n",
    "# Vizualizarea matricei de corelație\n",
    "plt.figure(figsize=(10, 8))\n",
    "plt.matshow(correlation_matrix2, fignum=1, cmap='coolwarm')\n",
    "plt.colorbar()\n",
    "plt.xticks(range(len(num_attributes2)), num_attributes2, rotation=45, ha='left')\n",
    "plt.yticks(range(len(num_attributes2)), num_attributes2)\n",
    "plt.title('Matricea de corelație între atributele numerice continue', pad=20)\n",
    "plt.show()"
   ]
  },
  {
   "cell_type": "markdown",
   "metadata": {},
   "source": [
    "- atribute categorice"
   ]
  },
  {
   "cell_type": "code",
   "execution_count": null,
   "metadata": {},
   "outputs": [],
   "source": [
    "import pandas as pd\n",
    "from scipy.stats import chi2_contingency\n",
    "\n",
    "# Datele categorice\n",
    "categorical_data = data2[disc_ord_attributes2]\n",
    "\n",
    "# Crearea unui DataFrame gol pentru stocarea rezultatelor testului Chi-Pătrat\n",
    "chi2_results = pd.DataFrame(index=disc_ord_attributes2, columns=disc_ord_attributes2)\n",
    "\n",
    "# Calcularea testului Chi-Pătrat pentru fiecare pereche de atribute categorice\n",
    "for col1 in disc_ord_attributes2:\n",
    "    for col2 in disc_ord_attributes2:\n",
    "        if col1 != col2:\n",
    "            contingency_table = pd.crosstab(categorical_data[col1], categorical_data[col2])\n",
    "            chi2, _, _, _ = chi2_contingency(contingency_table)\n",
    "            chi2_results.at[col1, col2] = chi2\n",
    "\n",
    "# Afișarea rezultatelor\n",
    "print(\"Matricea de corelație Chi-Pătrat între atributele categorice:\")\n",
    "print(chi2_results)\n"
   ]
  }
 ],
 "metadata": {
  "kernelspec": {
   "display_name": "Python 3",
   "language": "python",
   "name": "python3"
  },
  "language_info": {
   "codemirror_mode": {
    "name": "ipython",
    "version": 3
   },
   "file_extension": ".py",
   "mimetype": "text/x-python",
   "name": "python",
   "nbconvert_exporter": "python",
   "pygments_lexer": "ipython3",
   "version": "3.9.18"
  }
 },
 "nbformat": 4,
 "nbformat_minor": 2
}
